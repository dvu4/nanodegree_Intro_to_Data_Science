{
 "cells": [
  {
   "cell_type": "markdown",
   "metadata": {},
   "source": [
    "# Analyzing the NYC Subway Dataset"
   ]
  },
  {
   "cell_type": "markdown",
   "metadata": {},
   "source": [
    "In this project, I used statistical methods to figure out whether more people in NYC ride the subway when it is raining versus when it is not raining. Then we use data visualization to draw some interesting conclusions about the subway dataset.\n"
   ]
  },
  {
   "cell_type": "code",
   "execution_count": 497,
   "metadata": {
    "collapsed": false
   },
   "outputs": [
    {
     "data": {
      "text/html": [
       "<div>\n",
       "<table border=\"1\" class=\"dataframe\">\n",
       "  <thead>\n",
       "    <tr style=\"text-align: right;\">\n",
       "      <th></th>\n",
       "      <th>Unnamed: 0</th>\n",
       "      <th>UNIT</th>\n",
       "      <th>DATEn</th>\n",
       "      <th>TIMEn</th>\n",
       "      <th>Hour</th>\n",
       "      <th>DESCn</th>\n",
       "      <th>ENTRIESn_hourly</th>\n",
       "      <th>EXITSn_hourly</th>\n",
       "      <th>maxpressurei</th>\n",
       "      <th>maxdewpti</th>\n",
       "      <th>...</th>\n",
       "      <th>meandewpti</th>\n",
       "      <th>meanpressurei</th>\n",
       "      <th>fog</th>\n",
       "      <th>rain</th>\n",
       "      <th>meanwindspdi</th>\n",
       "      <th>mintempi</th>\n",
       "      <th>meantempi</th>\n",
       "      <th>maxtempi</th>\n",
       "      <th>precipi</th>\n",
       "      <th>thunder</th>\n",
       "    </tr>\n",
       "  </thead>\n",
       "  <tbody>\n",
       "    <tr>\n",
       "      <th>0</th>\n",
       "      <td>0</td>\n",
       "      <td>R001</td>\n",
       "      <td>2011-05-01</td>\n",
       "      <td>01:00:00</td>\n",
       "      <td>1</td>\n",
       "      <td>REGULAR</td>\n",
       "      <td>0</td>\n",
       "      <td>0</td>\n",
       "      <td>30.31</td>\n",
       "      <td>42</td>\n",
       "      <td>...</td>\n",
       "      <td>39</td>\n",
       "      <td>30.27</td>\n",
       "      <td>0</td>\n",
       "      <td>0</td>\n",
       "      <td>5</td>\n",
       "      <td>50</td>\n",
       "      <td>60</td>\n",
       "      <td>69</td>\n",
       "      <td>0</td>\n",
       "      <td>0</td>\n",
       "    </tr>\n",
       "    <tr>\n",
       "      <th>1</th>\n",
       "      <td>1</td>\n",
       "      <td>R001</td>\n",
       "      <td>2011-05-01</td>\n",
       "      <td>05:00:00</td>\n",
       "      <td>5</td>\n",
       "      <td>REGULAR</td>\n",
       "      <td>217</td>\n",
       "      <td>553</td>\n",
       "      <td>30.31</td>\n",
       "      <td>42</td>\n",
       "      <td>...</td>\n",
       "      <td>39</td>\n",
       "      <td>30.27</td>\n",
       "      <td>0</td>\n",
       "      <td>0</td>\n",
       "      <td>5</td>\n",
       "      <td>50</td>\n",
       "      <td>60</td>\n",
       "      <td>69</td>\n",
       "      <td>0</td>\n",
       "      <td>0</td>\n",
       "    </tr>\n",
       "    <tr>\n",
       "      <th>2</th>\n",
       "      <td>2</td>\n",
       "      <td>R001</td>\n",
       "      <td>2011-05-01</td>\n",
       "      <td>09:00:00</td>\n",
       "      <td>9</td>\n",
       "      <td>REGULAR</td>\n",
       "      <td>890</td>\n",
       "      <td>1262</td>\n",
       "      <td>30.31</td>\n",
       "      <td>42</td>\n",
       "      <td>...</td>\n",
       "      <td>39</td>\n",
       "      <td>30.27</td>\n",
       "      <td>0</td>\n",
       "      <td>0</td>\n",
       "      <td>5</td>\n",
       "      <td>50</td>\n",
       "      <td>60</td>\n",
       "      <td>69</td>\n",
       "      <td>0</td>\n",
       "      <td>0</td>\n",
       "    </tr>\n",
       "    <tr>\n",
       "      <th>3</th>\n",
       "      <td>3</td>\n",
       "      <td>R001</td>\n",
       "      <td>2011-05-01</td>\n",
       "      <td>13:00:00</td>\n",
       "      <td>13</td>\n",
       "      <td>REGULAR</td>\n",
       "      <td>2451</td>\n",
       "      <td>3708</td>\n",
       "      <td>30.31</td>\n",
       "      <td>42</td>\n",
       "      <td>...</td>\n",
       "      <td>39</td>\n",
       "      <td>30.27</td>\n",
       "      <td>0</td>\n",
       "      <td>0</td>\n",
       "      <td>5</td>\n",
       "      <td>50</td>\n",
       "      <td>60</td>\n",
       "      <td>69</td>\n",
       "      <td>0</td>\n",
       "      <td>0</td>\n",
       "    </tr>\n",
       "    <tr>\n",
       "      <th>4</th>\n",
       "      <td>4</td>\n",
       "      <td>R001</td>\n",
       "      <td>2011-05-01</td>\n",
       "      <td>17:00:00</td>\n",
       "      <td>17</td>\n",
       "      <td>REGULAR</td>\n",
       "      <td>4400</td>\n",
       "      <td>2501</td>\n",
       "      <td>30.31</td>\n",
       "      <td>42</td>\n",
       "      <td>...</td>\n",
       "      <td>39</td>\n",
       "      <td>30.27</td>\n",
       "      <td>0</td>\n",
       "      <td>0</td>\n",
       "      <td>5</td>\n",
       "      <td>50</td>\n",
       "      <td>60</td>\n",
       "      <td>69</td>\n",
       "      <td>0</td>\n",
       "      <td>0</td>\n",
       "    </tr>\n",
       "    <tr>\n",
       "      <th>5</th>\n",
       "      <td>5</td>\n",
       "      <td>R001</td>\n",
       "      <td>2011-05-01</td>\n",
       "      <td>21:00:00</td>\n",
       "      <td>21</td>\n",
       "      <td>REGULAR</td>\n",
       "      <td>3372</td>\n",
       "      <td>2122</td>\n",
       "      <td>30.31</td>\n",
       "      <td>42</td>\n",
       "      <td>...</td>\n",
       "      <td>39</td>\n",
       "      <td>30.27</td>\n",
       "      <td>0</td>\n",
       "      <td>0</td>\n",
       "      <td>5</td>\n",
       "      <td>50</td>\n",
       "      <td>60</td>\n",
       "      <td>69</td>\n",
       "      <td>0</td>\n",
       "      <td>0</td>\n",
       "    </tr>\n",
       "    <tr>\n",
       "      <th>6</th>\n",
       "      <td>6</td>\n",
       "      <td>R002</td>\n",
       "      <td>2011-05-01</td>\n",
       "      <td>01:00:00</td>\n",
       "      <td>1</td>\n",
       "      <td>REGULAR</td>\n",
       "      <td>0</td>\n",
       "      <td>0</td>\n",
       "      <td>30.31</td>\n",
       "      <td>42</td>\n",
       "      <td>...</td>\n",
       "      <td>39</td>\n",
       "      <td>30.27</td>\n",
       "      <td>0</td>\n",
       "      <td>0</td>\n",
       "      <td>5</td>\n",
       "      <td>50</td>\n",
       "      <td>60</td>\n",
       "      <td>69</td>\n",
       "      <td>0</td>\n",
       "      <td>0</td>\n",
       "    </tr>\n",
       "    <tr>\n",
       "      <th>7</th>\n",
       "      <td>7</td>\n",
       "      <td>R002</td>\n",
       "      <td>2011-05-01</td>\n",
       "      <td>05:00:00</td>\n",
       "      <td>5</td>\n",
       "      <td>REGULAR</td>\n",
       "      <td>42</td>\n",
       "      <td>66</td>\n",
       "      <td>30.31</td>\n",
       "      <td>42</td>\n",
       "      <td>...</td>\n",
       "      <td>39</td>\n",
       "      <td>30.27</td>\n",
       "      <td>0</td>\n",
       "      <td>0</td>\n",
       "      <td>5</td>\n",
       "      <td>50</td>\n",
       "      <td>60</td>\n",
       "      <td>69</td>\n",
       "      <td>0</td>\n",
       "      <td>0</td>\n",
       "    </tr>\n",
       "    <tr>\n",
       "      <th>8</th>\n",
       "      <td>8</td>\n",
       "      <td>R002</td>\n",
       "      <td>2011-05-01</td>\n",
       "      <td>09:00:00</td>\n",
       "      <td>9</td>\n",
       "      <td>REGULAR</td>\n",
       "      <td>50</td>\n",
       "      <td>125</td>\n",
       "      <td>30.31</td>\n",
       "      <td>42</td>\n",
       "      <td>...</td>\n",
       "      <td>39</td>\n",
       "      <td>30.27</td>\n",
       "      <td>0</td>\n",
       "      <td>0</td>\n",
       "      <td>5</td>\n",
       "      <td>50</td>\n",
       "      <td>60</td>\n",
       "      <td>69</td>\n",
       "      <td>0</td>\n",
       "      <td>0</td>\n",
       "    </tr>\n",
       "    <tr>\n",
       "      <th>9</th>\n",
       "      <td>9</td>\n",
       "      <td>R002</td>\n",
       "      <td>2011-05-01</td>\n",
       "      <td>13:00:00</td>\n",
       "      <td>13</td>\n",
       "      <td>REGULAR</td>\n",
       "      <td>316</td>\n",
       "      <td>716</td>\n",
       "      <td>30.31</td>\n",
       "      <td>42</td>\n",
       "      <td>...</td>\n",
       "      <td>39</td>\n",
       "      <td>30.27</td>\n",
       "      <td>0</td>\n",
       "      <td>0</td>\n",
       "      <td>5</td>\n",
       "      <td>50</td>\n",
       "      <td>60</td>\n",
       "      <td>69</td>\n",
       "      <td>0</td>\n",
       "      <td>0</td>\n",
       "    </tr>\n",
       "  </tbody>\n",
       "</table>\n",
       "<p>10 rows × 22 columns</p>\n",
       "</div>"
      ],
      "text/plain": [
       "   Unnamed: 0  UNIT       DATEn     TIMEn  Hour    DESCn  ENTRIESn_hourly  \\\n",
       "0           0  R001  2011-05-01  01:00:00     1  REGULAR                0   \n",
       "1           1  R001  2011-05-01  05:00:00     5  REGULAR              217   \n",
       "2           2  R001  2011-05-01  09:00:00     9  REGULAR              890   \n",
       "3           3  R001  2011-05-01  13:00:00    13  REGULAR             2451   \n",
       "4           4  R001  2011-05-01  17:00:00    17  REGULAR             4400   \n",
       "5           5  R001  2011-05-01  21:00:00    21  REGULAR             3372   \n",
       "6           6  R002  2011-05-01  01:00:00     1  REGULAR                0   \n",
       "7           7  R002  2011-05-01  05:00:00     5  REGULAR               42   \n",
       "8           8  R002  2011-05-01  09:00:00     9  REGULAR               50   \n",
       "9           9  R002  2011-05-01  13:00:00    13  REGULAR              316   \n",
       "\n",
       "   EXITSn_hourly  maxpressurei  maxdewpti   ...     meandewpti  meanpressurei  \\\n",
       "0              0         30.31         42   ...             39          30.27   \n",
       "1            553         30.31         42   ...             39          30.27   \n",
       "2           1262         30.31         42   ...             39          30.27   \n",
       "3           3708         30.31         42   ...             39          30.27   \n",
       "4           2501         30.31         42   ...             39          30.27   \n",
       "5           2122         30.31         42   ...             39          30.27   \n",
       "6              0         30.31         42   ...             39          30.27   \n",
       "7             66         30.31         42   ...             39          30.27   \n",
       "8            125         30.31         42   ...             39          30.27   \n",
       "9            716         30.31         42   ...             39          30.27   \n",
       "\n",
       "   fog  rain  meanwindspdi  mintempi  meantempi  maxtempi  precipi  thunder  \n",
       "0    0     0             5        50         60        69        0        0  \n",
       "1    0     0             5        50         60        69        0        0  \n",
       "2    0     0             5        50         60        69        0        0  \n",
       "3    0     0             5        50         60        69        0        0  \n",
       "4    0     0             5        50         60        69        0        0  \n",
       "5    0     0             5        50         60        69        0        0  \n",
       "6    0     0             5        50         60        69        0        0  \n",
       "7    0     0             5        50         60        69        0        0  \n",
       "8    0     0             5        50         60        69        0        0  \n",
       "9    0     0             5        50         60        69        0        0  \n",
       "\n",
       "[10 rows x 22 columns]"
      ]
     },
     "execution_count": 497,
     "metadata": {},
     "output_type": "execute_result"
    }
   ],
   "source": [
    "#the NYC subway dataset   \n",
    "%matplotlib inline\n",
    "import pandas as pd\n",
    "from pandas import *\n",
    "turnstile_master = pd.read_csv('turnstile_data_master_with_weather.csv')\n",
    "turnstile_master.head(10)"
   ]
  },
  {
   "cell_type": "markdown",
   "metadata": {},
   "source": [
    "\n"
   ]
  },
  {
   "cell_type": "markdown",
   "metadata": {
    "collapsed": true
   },
   "source": [
    "# Section 1. Statistical Test"
   ]
  },
  {
   "cell_type": "markdown",
   "metadata": {},
   "source": [
    "## 1.1 Statistical Test"
   ]
  },
  {
   "cell_type": "markdown",
   "metadata": {},
   "source": [
    "Mann-Whitney U-Test is used to analyze the NYC subway data with two-tail P-value. \n",
    "\n",
    "The null hypothesis asserts that the distributions of both riderships on rainy and non-rainy day are identical.\n",
    "\n",
    "Level of significance in Mann-Whitney U-Test is 5% (so p-critical value = 0.05)\n",
    "\n",
    "Because the obtained p-value from scipy.stats.mannwhitneyu is for a one-tailed hypothesis, to get the two-tailed p-value multiply the returned p-value by 2 as noted in this link : http://docs.scipy.org/doc/scipy-0.14.0/reference/generated/scipy.stats.mannwhitneyu.html "
   ]
  },
  {
   "cell_type": "markdown",
   "metadata": {},
   "source": [
    "## 1.2 Statistical Test Applicability"
   ]
  },
  {
   "cell_type": "markdown",
   "metadata": {},
   "source": [
    "The dataset of hourly entries to MTA turntiles is separated by two different groups (riderships on rainy and non-rainy days). The Mann-Whitney U-test will check that the medians of two non-normal distributions are equal (null hypothesis). \n",
    "The distribution of riderships on rainy and non-rainy days are not normal shape (Gaussian Distribution), so it is appropriate to apply the Mann-Whitney U test to determine whether there is any statistically significant difference in the distributions of two groups. For more details is here: http://www.alglib.net/hypothesistesting/mannwhitneyu.php "
   ]
  },
  {
   "cell_type": "markdown",
   "metadata": {},
   "source": [
    "## 1.3 Test Results"
   ]
  },
  {
   "cell_type": "markdown",
   "metadata": {},
   "source": [
    "Here is the result from this statistical test."
   ]
  },
  {
   "cell_type": "code",
   "execution_count": 498,
   "metadata": {
    "collapsed": false
   },
   "outputs": [
    {
     "name": "stdout",
     "output_type": "stream",
     "text": [
      "mean number of entries on rainy days: 1105.44637675\n",
      "mean number of entries non-rainy days: 1090.27878015\n",
      "\n",
      "Mann-Whitney U-test: 1924409167.0\n",
      "p-Value: 0.0249999127935\n"
     ]
    }
   ],
   "source": [
    "import numpy as np\n",
    "import scipy\n",
    "import scipy.stats\n",
    "\n",
    "turnstile_rain = turnstile_master[turnstile_master['rain'] == 1]\n",
    "turnstile_no_rain = turnstile_master[turnstile_master['rain'] == 0]\n",
    "    \n",
    "#with_rain_mean = np.mean(turnstile_rain['ENTRIESn_hourly']) \n",
    "#without_rain_mean = np.mean(turnstile_no_rain['ENTRIESn_hourly'])\n",
    "\n",
    "with_rain_mean = turnstile_rain['ENTRIESn_hourly'].mean() \n",
    "without_rain_mean = turnstile_no_rain['ENTRIESn_hourly'].mean() \n",
    "\n",
    "print 'mean number of entries on rainy days: {0}\\nmean number of entries non-rainy days: {1}\\n'.format(with_rain_mean, without_rain_mean)\n",
    "    \n",
    "U,p  = scipy.stats.mannwhitneyu(turnstile_rain['ENTRIESn_hourly'],turnstile_no_rain['ENTRIESn_hourly'], use_continuity=True)\n",
    "print 'Mann-Whitney U-test: {0}\\np-Value: {1}'.format(U,p)\n",
    "\n"
   ]
  },
  {
   "cell_type": "markdown",
   "metadata": {},
   "source": [
    "## 1.4 Test Significance"
   ]
  },
  {
   "cell_type": "code",
   "execution_count": 499,
   "metadata": {
    "collapsed": false
   },
   "outputs": [
    {
     "name": "stdout",
     "output_type": "stream",
     "text": [
      "Reject the null hypothesis\n"
     ]
    }
   ],
   "source": [
    "significance_level = 0.05\n",
    "\n",
    "#two-tailed test, multiply the returned p-value by 2\n",
    "if p*2 <= significance_level:\n",
    "    print 'Reject the null hypothesis'\n",
    "else:\n",
    "    print 'Retain the null hypothesis'"
   ]
  },
  {
   "cell_type": "markdown",
   "metadata": {},
   "source": [
    "We note that p-value of this statistical test is smaller than 0.05 , so we can confidently reject the null hypothesis. In other word, the distribution of two samples is significantly diferrent. \n",
    "\n",
    "Reference is http://psych.unl.edu/psycrs/handcomp/hcmann.PDF"
   ]
  },
  {
   "cell_type": "markdown",
   "metadata": {},
   "source": [
    "# Section 2. Linear Regression"
   ]
  },
  {
   "cell_type": "markdown",
   "metadata": {},
   "source": [
    "## 2.1 Prediction model"
   ]
  },
  {
   "cell_type": "markdown",
   "metadata": {},
   "source": [
    "OLS (Ordinary Least Squares) using Statsmodels is used to compute the coefficients theta and produce prediction for ENTRIESn_hourly in my regression model.\n",
    "\n",
    "Reference is https://en.wikipedia.org/wiki/Ordinary_least_squares"
   ]
  },
  {
   "cell_type": "markdown",
   "metadata": {},
   "source": [
    "## 2.2 Feature Selection"
   ]
  },
  {
   "cell_type": "markdown",
   "metadata": {},
   "source": [
    "The following features are extracted from the dataset :\n",
    "\n",
    "    * rain \n",
    "    * precipi \n",
    "    * Hour \n",
    "    * meantempi "
   ]
  },
  {
   "cell_type": "code",
   "execution_count": 501,
   "metadata": {
    "collapsed": false
   },
   "outputs": [],
   "source": [
    "# features selection\n",
    "features = turnstile_master[['rain', 'meantempi','precipi', 'Hour']]"
   ]
  },
  {
   "cell_type": "markdown",
   "metadata": {},
   "source": [
    "Create a new feature from dataset :\n",
    "    * precipi_sqrt is square root of precipi in dataset"
   ]
  },
  {
   "cell_type": "code",
   "execution_count": 502,
   "metadata": {
    "collapsed": true
   },
   "outputs": [],
   "source": [
    "# needed to prevent warning about chained assignment\n",
    "features.is_copy = False \n",
    "\n",
    "# create polynomial features\n",
    "features['precipi_sqrt'] = turnstile_master['precipi']**0.5"
   ]
  },
  {
   "cell_type": "markdown",
   "metadata": {},
   "source": [
    "Dummy variable is used as feature in the regression model. The dummy variable is UNIT variable in dataset. "
   ]
  },
  {
   "cell_type": "code",
   "execution_count": 503,
   "metadata": {
    "collapsed": false
   },
   "outputs": [],
   "source": [
    "# add dummy as features in the model\n",
    "dummy_units = pd.get_dummies(turnstile_master['UNIT'], prefix='unit')\n",
    "features = features.join(dummy_units)"
   ]
  },
  {
   "cell_type": "markdown",
   "metadata": {},
   "source": [
    "## 2.3 Feature Selection Rationale"
   ]
  },
  {
   "cell_type": "markdown",
   "metadata": {},
   "source": [
    "People will choose to use public transportation in the inconvenient weather conditions such as rain, precipitation, average temperature to reduce the risk of traffic congestion. Thus these components are definitely used as features to predict the riders' decision making to take public trasportation.\n",
    "\n",
    "precipi_sqrt is used to enhance the R-squared value. Hour is selected because we can see how ridership varies with time of day.\n",
    "\n"
   ]
  },
  {
   "cell_type": "markdown",
   "metadata": {},
   "source": [
    "## 2.4 Model parameters"
   ]
  },
  {
   "cell_type": "code",
   "execution_count": 504,
   "metadata": {
    "collapsed": false
   },
   "outputs": [
    {
     "name": "stdout",
     "output_type": "stream",
     "text": [
      "The intercept of the linear regression : 1377.19856309\n",
      "\n",
      "The coefficients of the linear regression : \n",
      "rain            253.447152\n",
      "meantempi        -8.164409\n",
      "precipi         522.995807\n",
      "Hour             67.383287\n",
      "precipi_sqrt   -841.033474\n",
      "dtype: float64\n",
      "\n",
      "The R2 value : 0.45834136127\n",
      "\n"
     ]
    }
   ],
   "source": [
    "import statsmodels.api as sm\n",
    "\n",
    "# Perform linear regression given a data set with an arbitrary number of features.\n",
    "def linear_regression(features, values):\n",
    "  \n",
    "    features = sm.add_constant(features)\n",
    "    model = sm.OLS(values,features)\n",
    "    results = model.fit()\n",
    "    \n",
    "    intercept = results.params[0]\n",
    "    params = results.params[1:]\n",
    "    rsquared = results.rsquared\n",
    "    #print results.summary()\n",
    "    return intercept, params, rsquared\n",
    "\n",
    "\n",
    "# Ridership Values\n",
    "values = turnstile_master['ENTRIESn_hourly']\n",
    "\n",
    "# Perform linear regression\n",
    "intercept, params, rsquared = linear_regression(features, values)\n",
    "\n",
    "\n",
    "print 'The intercept of the linear regression : {0}\\n'.format(intercept)\n",
    "print 'The coefficients of the linear regression : \\n{0}\\n'.format(params[:5])\n",
    "print 'The R2 value : {0}\\n'.format(rsquared)"
   ]
  },
  {
   "cell_type": "markdown",
   "metadata": {},
   "source": [
    "## 2.5 R-Squared value"
   ]
  },
  {
   "cell_type": "code",
   "execution_count": 505,
   "metadata": {
    "collapsed": false
   },
   "outputs": [
    {
     "name": "stdout",
     "output_type": "stream",
     "text": [
      "The R2 value : 0.45834136127\n",
      "\n"
     ]
    }
   ],
   "source": [
    "# prediction value from the regression model\n",
    "predictions = intercept + np.dot(features, params)\n",
    "\n",
    "# Total sum of squares\n",
    "SST = ((values-np.mean(values))**2).sum()\n",
    "\n",
    "# Regression sum of squares\n",
    "SSReg = ((predictions-np.mean(values))**2).sum()\n",
    "\n",
    "# calculate R2 (coefficients of determination) value.\n",
    "r_squared = SSReg / SST\n",
    "\n",
    "print 'The R2 value : {0}\\n'.format(r_squared)"
   ]
  },
  {
   "cell_type": "markdown",
   "metadata": {},
   "source": [
    "Reference this to calculate R2 Squared : https://en.wikipedia.org/wiki/Coefficient_of_determination"
   ]
  },
  {
   "cell_type": "markdown",
   "metadata": {},
   "source": [
    "## 2.6 Goodness of fit "
   ]
  },
  {
   "cell_type": "markdown",
   "metadata": {},
   "source": [
    "The higher R-squared , the better a model fits the data. That means a higher R-squared is required for precision prediction. In this case, R-squared is rather low (45%) , so the linear regression model seems inappropriate for predicting ridership. However, R-squared does not neccesarily indicate that  a regression model is adequate or not. Sometimes we can have a low R-squared value for a good model, or a high R-squared value for a model that does not fit the data. \n",
    "\n",
    "Based on R-squared, I can explain about 45% of the data variablity with the OLS model. In other word, my model lets me predict the entry per hour in NYC subway with 45% accuracy. \n",
    "\n",
    "The 95% confidence interval for the slope in respect with independent variable 'rain' is the estimated coefficient 185.875 and 321.020\n",
    "\n",
    "Reference: http://blog.minitab.com/blog/adventures-in-statistics/regression-analysis-how-do-i-interpret-r-squared-and-assess-the-goodness-of-fit\n",
    "\n"
   ]
  },
  {
   "cell_type": "markdown",
   "metadata": {},
   "source": [
    "# Section 3. Visualization"
   ]
  },
  {
   "cell_type": "markdown",
   "metadata": {},
   "source": [
    "## 3.1 ENTRIESn_hourly for rainy days and non-rainy days."
   ]
  },
  {
   "cell_type": "code",
   "execution_count": 506,
   "metadata": {
    "collapsed": false,
    "scrolled": false
   },
   "outputs": [
    {
     "data": {
      "text/plain": [
       "<matplotlib.text.Text at 0x15929f790>"
      ]
     },
     "execution_count": 506,
     "metadata": {},
     "output_type": "execute_result"
    },
    {
     "data": {
      "image/png": "[encoded data removed]",
      "text/plain": [
       "<matplotlib.figure.Figure at 0x10e567250>"
      ]
     },
     "metadata": {},
     "output_type": "display_data"
    }
   ],
   "source": [
    "import matplotlib.pyplot as plt\n",
    "from matplotlib.colors import LinearSegmentedColormap\n",
    "from matplotlib.lines import Line2D \n",
    "\n",
    "from ggplot import *\n",
    "\n",
    "num_bins = 50\n",
    "start_bin = min(turnstile_master['ENTRIESn_hourly'])\n",
    "stop_bin = 5000 \n",
    "bin_width = (stop_bin - start_bin)/num_bins\n",
    "\n",
    "bin_list = np.arange(start_bin, stop_bin, bin_width)\n",
    "\n",
    "plt.figure(figsize=(16,12))\n",
    "histx = turnstile_master[turnstile_master.rain == 0]['ENTRIESn_hourly'].plot(kind='hist', \n",
    "                                                                          bins = bin_list,\n",
    "                                                                          figsize=(12, 10),\n",
    "                                                                          edgecolor='w',\n",
    "                                                                          label='Not Rainy', \n",
    "                                                                          alpha = 0.75)\n",
    "\n",
    "histx = turnstile_master[turnstile_master.rain == 1]['ENTRIESn_hourly'].plot(kind='hist', \n",
    "                                                                          bins = bin_list,\n",
    "                                                                          figsize=(12, 10),\n",
    "                                                                          edgecolor='w',\n",
    "                                                                          label='Rainy',\n",
    "                                                                          alpha = 0.75)\n",
    "histx.grid()\n",
    "histx.legend()\n",
    "histx.set_ylabel('Frequency')\n",
    "histx.set_xlabel('ENTRIESn_hourly')\n",
    "histx.set_title('Distribution of ENTRIESn_hourly')"
   ]
  },
  {
   "cell_type": "markdown",
   "metadata": {},
   "source": [
    "The above histogram shows that the distribution of ridership on rainy and non-rainy days are not normal shape. There are much fewer observations on rainy days than not rainy days."
   ]
  },
  {
   "cell_type": "markdown",
   "metadata": {},
   "source": [
    "## 3.2 Ridership by day-of-week"
   ]
  },
  {
   "cell_type": "code",
   "execution_count": 507,
   "metadata": {
    "collapsed": false
   },
   "outputs": [
    {
     "data": {
      "image/png": "[encoded data removed]",
      "text/plain": [
       "<matplotlib.figure.Figure at 0x111c76690>"
      ]
     },
     "metadata": {},
     "output_type": "display_data"
    },
    {
     "name": "stdout",
     "output_type": "stream",
     "text": [
      "<ggplot: (307256169)>\n"
     ]
    }
   ],
   "source": [
    "from ggplot import *\n",
    "from datetime import *\n",
    "''' \n",
    "Ridership by time-of-day or day-of-week   \n",
    "https://www.dropbox.com/s/meyki2wl9xfa7yk/turnstile_data_master_with_weather.csv\n",
    "'''\n",
    "#df =  turnstile_master.groupby(['weather', 'Hour'], as_index=False).mean()\n",
    "\n",
    "EntriesByDayOfMonth = turnstile_master[['DATEn', 'ENTRIESn_hourly', 'rain']] \\\n",
    "                     .groupby('DATEn', as_index=False).mean()\n",
    "\n",
    "EntriesByDayOfMonth['Day'] = [datetime.strptime(x, '%Y-%m-%d') \\\n",
    "                             .strftime('%w %A') for x in EntriesByDayOfMonth['DATEn']]\n",
    "\n",
    "EntriesByDay = EntriesByDayOfMonth[['Day', 'ENTRIESn_hourly', 'rain']] \\\n",
    "               .groupby(['rain','Day'], as_index=False).mean()\n",
    "\n",
    "map_dict = {0: 'not rainy', 1: 'rainy'}\n",
    "EntriesByDay['rain'] = EntriesByDay['rain'].map(map_dict)\n",
    "\n",
    "plot = ggplot(aes(x='Day', fill = 'rain'),data = EntriesByDay) \\\n",
    "    + geom_histogram(aes(weight = 'ENTRIESn_hourly')) \\\n",
    "    + ggtitle('NYC Subway average hourly ridership by day of week') \\\n",
    "    + xlab('Weekday') + ylab('Entries')\n",
    "print plot"
   ]
  },
  {
   "cell_type": "markdown",
   "metadata": {},
   "source": [
    "The bar chart shows the average hourly ridership in NYC subway and it indicates that more people ride the subway on the weekdays than weekends."
   ]
  },
  {
   "cell_type": "markdown",
   "metadata": {},
   "source": [
    "## 3.3 Ridership by hour"
   ]
  },
  {
   "cell_type": "code",
   "execution_count": 508,
   "metadata": {
    "collapsed": false
   },
   "outputs": [
    {
     "data": {
      "image/png": "[encoded data removed]",
      "text/plain": [
       "<matplotlib.figure.Figure at 0x1144d65d0>"
      ]
     },
     "metadata": {},
     "output_type": "display_data"
    },
    {
     "name": "stdout",
     "output_type": "stream",
     "text": [
      "<ggplot: (307251169)>\n"
     ]
    }
   ],
   "source": [
    "map_dict = {0: 'not rainy', 1: 'rainy'}\n",
    "turnstile_master['weather'] = turnstile_master['rain'].map(map_dict)\n",
    "\n",
    "df =  turnstile_master.groupby(['weather', 'Hour'], as_index=False).mean()\n",
    "\n",
    "plot = ggplot(aes(x='Hour', fill = 'weather'),data = df) \\\n",
    "    + geom_histogram(aes(weight = 'ENTRIESn_hourly'),binwidth=1) \\\n",
    "    + scale_x_continuous(limits = (0,24), breaks = range(1,24)) \\\n",
    "    + ggtitle('NYC Subway average hourly ridership by hour') \\\n",
    "    + xlab('Hour') + ylab('Entries')\n",
    "\n",
    "\n",
    "print plot"
   ]
  },
  {
   "cell_type": "markdown",
   "metadata": {},
   "source": [
    "The bar chart shows the average hourly ridership in NYC subway by hour and it indicates that more people ride the subway on the not rainy day than rainy day. Furthermore, more people take MTA in the rush hours (such as 9am, 12pm, 16pm and 20pm)"
   ]
  },
  {
   "cell_type": "markdown",
   "metadata": {},
   "source": [
    "# Section 4. Conclusion"
   ]
  },
  {
   "cell_type": "markdown",
   "metadata": {
    "collapsed": true
   },
   "source": [
    "## 4.1 Ridership in the NYC subway when it is raining or when it is not raining"
   ]
  },
  {
   "cell_type": "markdown",
   "metadata": {},
   "source": [
    "Based on analysis and visualization of the data, more people ride\n",
    "the NYC subway when it is raining. \n",
    "\n",
    "On average, between 15 and 253 more people ride the NYC subway on a rainy day compared to a non-rainy day. These numbers come from using simple mean comparison, and linear regressions with OLS. In the mean comparison, there is a difference of 15 entries per hour, while in the OLS model the theta for the rain variable was 253. \n"
   ]
  },
  {
   "cell_type": "markdown",
   "metadata": {},
   "source": [
    "## 4.2 Rationale"
   ]
  },
  {
   "cell_type": "markdown",
   "metadata": {},
   "source": [
    "Based on the Mann-Whitney U-test, the distributions of rainy days and non-rainy days are different, i.e mean hourly entries on rainy days is greater than non-rainy days in [Section 1.3](#1.3-Test-Results) (1105 vs 1090). In other words,  subway usage increases  by 15 riders per hour when it rains.\n",
    "\n",
    "\n",
    "Furthermore, as seen in [Section 2.4](#2.4-Model-parameters) given that the rain variable is a boolean the interpretation of the theta is that when it rains (rain = 1), positive correlation coefficient of variable 'rain' indicates 253 more people will use subway when it is raining.\n",
    "\n",
    "\n",
    "The comparison of both means using the Mann-Whitney U-test gives me good reason to believe that there is a statistical significant difference between the two data distributions. While positive theta of rain feature in the OLS models verifies my assumption.\n"
   ]
  },
  {
   "cell_type": "markdown",
   "metadata": {},
   "source": [
    "# Section 5. Reflection"
   ]
  },
  {
   "cell_type": "markdown",
   "metadata": {},
   "source": [
    "## 5.1 The shortcomings of the methods"
   ]
  },
  {
   "cell_type": "markdown",
   "metadata": {},
   "source": [
    "The Ordinary Least Squares method suffers from the major pitfall that it attempts to fit a line through one dimensional data sets, or a hyperplane through higher dimensional datasets. In reality though, most problems are non-linear relationships. Even with an infinite amount of training points, linear method will often fail to make a good prediction. \n",
    "\n",
    "Another problem with this MTA data is that it consists of a lot independent variables and if I choose too many features, that will lead to a worse prediction. So keeping some useful dependent variables and discarding the other ones are also important to reduce the computational and storage capacities. That approach can be solved by feature selection methods like PCA, ICA. This model consists a lot of dummy variables which increases the chance of multicollinearity.\n",
    "\n",
    "Furthermore, the dataset provided contains only MTA data in May which may affect the accuracy for ridership prediction.\n",
    "\n",
    "Reference is http://www.clockbackward.com/2009/06/18/ordinary-least-squares-linear-regression-flaws-problems-and-pitfalls/"
   ]
  }
 ],
 "metadata": {
  "kernelspec": {
   "display_name": "Python 2",
   "language": "python",
   "name": "python2"
  },
  "language_info": {
   "codemirror_mode": {
    "name": "ipython",
    "version": 2
   },
   "file_extension": ".py",
   "mimetype": "text/x-python",
   "name": "python",
   "nbconvert_exporter": "python",
   "pygments_lexer": "ipython2",
   "version": "2.7.10"
  }
 },
 "nbformat": 4,
 "nbformat_minor": 0
}
